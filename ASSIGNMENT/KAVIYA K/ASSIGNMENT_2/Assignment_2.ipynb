{
  "cells": [
    {
      "cell_type": "markdown",
      "source": [],
      "metadata": {
        "id": "MEKVNa6iSUPQ"
      },
      "id": "MEKVNa6iSUPQ"
    },
    {
      "cell_type": "code",
      "execution_count": 3,
      "id": "9d3d6eca-174a-4b7c-a849-7bae1c004882",
      "metadata": {
        "id": "9d3d6eca-174a-4b7c-a849-7bae1c004882"
      },
      "outputs": [],
      "source": [
        "import numpy as np\n",
        "import pandas as pd\n",
        "import seaborn as sns\n",
        "import matplotlib.pyplot as plt\n",
        "import sklearn\n",
        "import os"
      ]
    },
    {
      "cell_type": "code",
      "source": [
        "from google.colab import drive\n",
        "drive.mount('/content/drive')"
      ],
      "metadata": {
        "colab": {
          "base_uri": "https://localhost:8080/"
        },
        "id": "tfhq10BhSOmU",
        "outputId": "5b075769-63d9-4733-b60f-5fa60590d778"
      },
      "id": "tfhq10BhSOmU",
      "execution_count": 4,
      "outputs": [
        {
          "output_type": "stream",
          "name": "stdout",
          "text": [
            "Drive already mounted at /content/drive; to attempt to forcibly remount, call drive.mount(\"/content/drive\", force_remount=True).\n"
          ]
        }
      ]
    },
    {
      "cell_type": "code",
      "execution_count": 5,
      "id": "7c45e565-7892-4fac-b143-7f5d8aa518c8",
      "metadata": {
        "id": "7c45e565-7892-4fac-b143-7f5d8aa518c8"
      },
      "outputs": [],
      "source": [
        "churn = pd.read_csv(\"/content/drive/MyDrive/Colab Notebooks/Churn_Modelling.csv\")"
      ]
    },
    {
      "cell_type": "markdown",
      "id": "efc66270-f683-4ced-a5fc-7ba2ec8d5948",
      "metadata": {
        "id": "efc66270-f683-4ced-a5fc-7ba2ec8d5948"
      },
      "source": [
        "## Univariant Analysis"
      ]
    },
    {
      "cell_type": "code",
      "execution_count": 6,
      "id": "8b953650-c771-4a54-9783-f50c382eb7f2",
      "metadata": {
        "colab": {
          "base_uri": "https://localhost:8080/",
          "height": 364
        },
        "id": "8b953650-c771-4a54-9783-f50c382eb7f2",
        "outputId": "98b91bb8-1f9f-4bb4-b293-755f0d5d4df2"
      },
      "outputs": [
        {
          "output_type": "stream",
          "name": "stderr",
          "text": [
            "/usr/local/lib/python3.7/dist-packages/seaborn/distributions.py:2619: FutureWarning: `distplot` is a deprecated function and will be removed in a future version. Please adapt your code to use either `displot` (a figure-level function with similar flexibility) or `histplot` (an axes-level function for histograms).\n",
            "  warnings.warn(msg, FutureWarning)\n"
          ]
        },
        {
          "output_type": "execute_result",
          "data": {
            "text/plain": [
              "<matplotlib.axes._subplots.AxesSubplot at 0x7f2db439ff50>"
            ]
          },
          "metadata": {},
          "execution_count": 6
        },
        {
          "output_type": "display_data",
          "data": {
            "text/plain": [
              "<Figure size 432x288 with 1 Axes>"
            ],
            "image/png": "[encoded data removed]"
          },
          "metadata": {
            "needs_background": "light"
          }
        }
      ],
      "source": [
        "sns.distplot(churn['Balance'], kde=True)"
      ]
    },
    {
      "cell_type": "code",
      "execution_count": 7,
      "id": "d0ba23df-7d57-49cc-9986-e308abe7f56c",
      "metadata": {
        "colab": {
          "base_uri": "https://localhost:8080/",
          "height": 297
        },
        "id": "d0ba23df-7d57-49cc-9986-e308abe7f56c",
        "outputId": "9e0abdab-c43d-46c3-8df2-dfe9c7270f73"
      },
      "outputs": [
        {
          "output_type": "execute_result",
          "data": {
            "text/plain": [
              "<matplotlib.axes._subplots.AxesSubplot at 0x7f2db3db3d90>"
            ]
          },
          "metadata": {},
          "execution_count": 7
        },
        {
          "output_type": "display_data",
          "data": {
            "text/plain": [
              "<Figure size 432x288 with 1 Axes>"
            ],
            "image/png": "[encoded data removed]"
          },
          "metadata": {
            "needs_background": "light"
          }
        }
      ],
      "source": [
        "sns.histplot(churn['Balance'])"
      ]
    },
    {
      "cell_type": "code",
      "execution_count": 8,
      "id": "f36a034b-2678-4d1a-995e-0aa34b7bbf37",
      "metadata": {
        "colab": {
          "base_uri": "https://localhost:8080/",
          "height": 297
        },
        "id": "f36a034b-2678-4d1a-995e-0aa34b7bbf37",
        "outputId": "7f71ce98-c73a-4cd8-9c31-358738aeaa13"
      },
      "outputs": [
        {
          "output_type": "execute_result",
          "data": {
            "text/plain": [
              "<matplotlib.axes._subplots.AxesSubplot at 0x7f2db3d16410>"
            ]
          },
          "metadata": {},
          "execution_count": 8
        },
        {
          "output_type": "display_data",
          "data": {
            "text/plain": [
              "<Figure size 432x288 with 1 Axes>"
            ],
            "image/png": "[encoded data removed]"
          },
          "metadata": {
            "needs_background": "light"
          }
        }
      ],
      "source": [
        "sns.boxplot(x=churn['Age'])"
      ]
    },
    {
      "cell_type": "markdown",
      "id": "c498bf70-0c89-435f-b8ea-701bae4b3b3b",
      "metadata": {
        "id": "c498bf70-0c89-435f-b8ea-701bae4b3b3b"
      },
      "source": [
        "## Bivariate Analysis"
      ]
    },
    {
      "cell_type": "code",
      "execution_count": 9,
      "id": "a9252e01-07a5-472e-b2a6-5ab3687c65ca",
      "metadata": {
        "colab": {
          "base_uri": "https://localhost:8080/",
          "height": 297
        },
        "id": "a9252e01-07a5-472e-b2a6-5ab3687c65ca",
        "outputId": "b959bd95-a3cf-4730-90d9-67cce88dc48d"
      },
      "outputs": [
        {
          "output_type": "execute_result",
          "data": {
            "text/plain": [
              "<matplotlib.axes._subplots.AxesSubplot at 0x7f2db3c886d0>"
            ]
          },
          "metadata": {},
          "execution_count": 9
        },
        {
          "output_type": "display_data",
          "data": {
            "text/plain": [
              "<Figure size 432x288 with 1 Axes>"
            ],
            "image/png": "[encoded data removed]"
          },
          "metadata": {
            "needs_background": "light"
          }
        }
      ],
      "source": [
        "sns.lineplot(data = churn , x='CreditScore', y='EstimatedSalary')"
      ]
    },
    {
      "cell_type": "code",
      "execution_count": 10,
      "id": "74777a45-1ab6-4468-901b-ddcbcdda2eed",
      "metadata": {
        "colab": {
          "base_uri": "https://localhost:8080/",
          "height": 297
        },
        "id": "74777a45-1ab6-4468-901b-ddcbcdda2eed",
        "outputId": "ce188b15-65d0-4c63-ea4c-8bbe67da25f6"
      },
      "outputs": [
        {
          "output_type": "execute_result",
          "data": {
            "text/plain": [
              "<matplotlib.axes._subplots.AxesSubplot at 0x7f2db3ab62d0>"
            ]
          },
          "metadata": {},
          "execution_count": 10
        },
        {
          "output_type": "display_data",
          "data": {
            "text/plain": [
              "<Figure size 432x288 with 1 Axes>"
            ],
            "image/png": "[encoded data removed]"
          },
          "metadata": {
            "needs_background": "light"
          }
        }
      ],
      "source": [
        "sns.barplot(data=churn, x=\"CreditScore\", y=\"Tenure\")"
      ]
    },
    {
      "cell_type": "code",
      "execution_count": null,
      "id": "526a7740-75c7-4b7b-a6f1-4ca8c7b97b8e",
      "metadata": {
        "id": "526a7740-75c7-4b7b-a6f1-4ca8c7b97b8e"
      },
      "outputs": [],
      "source": [
        "plt.figure(figsize=(50,50))\n",
        "sns.barplot(data = churn, x= 'Age', y='Balance')"
      ]
    },
    {
      "cell_type": "code",
      "execution_count": null,
      "id": "40d0d0ee-85b1-4c87-9937-076eba83bacb",
      "metadata": {
        "id": "40d0d0ee-85b1-4c87-9937-076eba83bacb"
      },
      "outputs": [],
      "source": [
        "sns.scatterplot(data = churn, x = 'Age', y = 'Balance')"
      ]
    },
    {
      "cell_type": "markdown",
      "id": "1c7e87b1-f996-4c7d-8597-4faa90c1284f",
      "metadata": {
        "id": "1c7e87b1-f996-4c7d-8597-4faa90c1284f"
      },
      "source": [
        "# Multi variate analysis"
      ]
    },
    {
      "cell_type": "code",
      "execution_count": null,
      "id": "52ed5d64-6767-4418-9109-c4b008ef5d80",
      "metadata": {
        "id": "52ed5d64-6767-4418-9109-c4b008ef5d80"
      },
      "outputs": [],
      "source": [
        "sns.scatterplot(data = churn, x = 'Age', y = 'Balance', hue = \"Gender\")"
      ]
    },
    {
      "cell_type": "code",
      "execution_count": null,
      "id": "a1a9c5b0-ff06-4bc4-a74c-253e246fbbdd",
      "metadata": {
        "id": "a1a9c5b0-ff06-4bc4-a74c-253e246fbbdd"
      },
      "outputs": [],
      "source": [
        "sns.pairplot(data = churn)"
      ]
    },
    {
      "cell_type": "code",
      "execution_count": null,
      "id": "c03943b7-1967-4407-997c-2f33d3d13a45",
      "metadata": {
        "id": "c03943b7-1967-4407-997c-2f33d3d13a45"
      },
      "outputs": [],
      "source": []
    },
    {
      "cell_type": "markdown",
      "id": "545de7ed-ddae-46ca-b623-68df63a1bca9",
      "metadata": {
        "id": "545de7ed-ddae-46ca-b623-68df63a1bca9"
      },
      "source": [
        "## Descriptive Statistics"
      ]
    },
    {
      "cell_type": "code",
      "execution_count": null,
      "id": "177364b4-d518-4153-a6ec-7586516d9789",
      "metadata": {
        "id": "177364b4-d518-4153-a6ec-7586516d9789"
      },
      "outputs": [],
      "source": [
        "churn.mean(numeric_only = True)"
      ]
    },
    {
      "cell_type": "code",
      "execution_count": null,
      "id": "d9605ead-99ec-4e87-a78d-517a5da6f032",
      "metadata": {
        "id": "d9605ead-99ec-4e87-a78d-517a5da6f032"
      },
      "outputs": [],
      "source": [
        "churn.median(numeric_only = True)"
      ]
    },
    {
      "cell_type": "code",
      "execution_count": null,
      "id": "f02d2721-be5f-4bb7-8e05-57bf44b81f02",
      "metadata": {
        "id": "f02d2721-be5f-4bb7-8e05-57bf44b81f02"
      },
      "outputs": [],
      "source": [
        "churn['Age'].mode()"
      ]
    },
    {
      "cell_type": "code",
      "execution_count": null,
      "id": "dcd43aa1-0a1a-4d89-8ddf-4d9d88f9c888",
      "metadata": {
        "id": "dcd43aa1-0a1a-4d89-8ddf-4d9d88f9c888"
      },
      "outputs": [],
      "source": [
        "churn.var(numeric_only = True)"
      ]
    },
    {
      "cell_type": "code",
      "execution_count": null,
      "id": "2393adb9-c3de-4523-9ccc-4194311bdf59",
      "metadata": {
        "id": "2393adb9-c3de-4523-9ccc-4194311bdf59"
      },
      "outputs": [],
      "source": [
        "churn.std(numeric_only = True)"
      ]
    },
    {
      "cell_type": "code",
      "execution_count": null,
      "id": "facd8cd5-97ac-4bd0-bd51-268010df7e2e",
      "metadata": {
        "id": "facd8cd5-97ac-4bd0-bd51-268010df7e2e"
      },
      "outputs": [],
      "source": [
        "churn.describe()"
      ]
    },
    {
      "cell_type": "code",
      "execution_count": null,
      "id": "574a9fef-62b9-4e20-9953-f69105cc80f2",
      "metadata": {
        "id": "574a9fef-62b9-4e20-9953-f69105cc80f2"
      },
      "outputs": [],
      "source": [
        "churn['Age'].unique()"
      ]
    },
    {
      "cell_type": "code",
      "execution_count": null,
      "id": "fe3deb27-11f8-4f32-8199-07aea7d1ccdf",
      "metadata": {
        "id": "fe3deb27-11f8-4f32-8199-07aea7d1ccdf"
      },
      "outputs": [],
      "source": [
        "churn['Age'].value_counts()"
      ]
    },
    {
      "cell_type": "markdown",
      "id": "a9a7363f-e564-4b53-ab64-d078ef68ece8",
      "metadata": {
        "id": "a9a7363f-e564-4b53-ab64-d078ef68ece8"
      },
      "source": [
        "## Handling Empty Values"
      ]
    },
    {
      "cell_type": "code",
      "execution_count": null,
      "id": "6c3384c5-f6f3-4e50-9e72-17e44f34d1b3",
      "metadata": {
        "id": "6c3384c5-f6f3-4e50-9e72-17e44f34d1b3"
      },
      "outputs": [],
      "source": [
        "churn.isnull().any()"
      ]
    },
    {
      "cell_type": "code",
      "execution_count": null,
      "id": "29e56a19-481d-4b8e-9520-f89e402f6592",
      "metadata": {
        "id": "29e56a19-481d-4b8e-9520-f89e402f6592"
      },
      "outputs": [],
      "source": [
        "churn.isnull().sum()"
      ]
    },
    {
      "cell_type": "markdown",
      "id": "ebab0c5f-a944-44b2-8b7a-dd1b323ef1be",
      "metadata": {
        "id": "ebab0c5f-a944-44b2-8b7a-dd1b323ef1be"
      },
      "source": [
        "## Outliers"
      ]
    },
    {
      "cell_type": "code",
      "execution_count": null,
      "id": "33b2a6d3-571d-4d89-8b47-e1a79819a4a3",
      "metadata": {
        "id": "33b2a6d3-571d-4d89-8b47-e1a79819a4a3"
      },
      "outputs": [],
      "source": [
        "sns.boxplot(x=churn['CreditScore'])"
      ]
    },
    {
      "cell_type": "code",
      "execution_count": null,
      "id": "1ebbd4ce-ef6c-4038-ab50-472041ff4de6",
      "metadata": {
        "id": "1ebbd4ce-ef6c-4038-ab50-472041ff4de6"
      },
      "outputs": [],
      "source": [
        "q  = churn.quantile([0.75,0.25], numeric_only = True)\n",
        "q"
      ]
    },
    {
      "cell_type": "code",
      "execution_count": null,
      "id": "b53e8306-6901-4ea3-9c4c-cabd4fcf960f",
      "metadata": {
        "id": "b53e8306-6901-4ea3-9c4c-cabd4fcf960f"
      },
      "outputs": [],
      "source": [
        "iqr =  q.iloc[0] - q.iloc[1]\n",
        "iqr"
      ]
    },
    {
      "cell_type": "code",
      "execution_count": null,
      "id": "bf110078-234c-4429-af50-436bc61aec44",
      "metadata": {
        "id": "bf110078-234c-4429-af50-436bc61aec44"
      },
      "outputs": [],
      "source": [
        "u = q.iloc[0] + (1.5*iqr)\n",
        "u"
      ]
    },
    {
      "cell_type": "code",
      "execution_count": null,
      "id": "a704d09b-231c-47c3-bc72-06391379d33a",
      "metadata": {
        "id": "a704d09b-231c-47c3-bc72-06391379d33a"
      },
      "outputs": [],
      "source": [
        "l = q.iloc[1] - (1.5*iqr)\n",
        "l"
      ]
    },
    {
      "cell_type": "code",
      "execution_count": null,
      "id": "966549b1-fa5d-4cb1-b968-0dc85a0166bd",
      "metadata": {
        "id": "966549b1-fa5d-4cb1-b968-0dc85a0166bd"
      },
      "outputs": [],
      "source": [
        "churn['CreditScore'] = np.where(np.logical_or(churn['CreditScore'] > 900, churn['CreditScore'] < 383), 652, churn['CreditScore'])"
      ]
    },
    {
      "cell_type": "code",
      "execution_count": null,
      "id": "55d55d3f-389e-4f31-8b18-9ae1a008e3cf",
      "metadata": {
        "id": "55d55d3f-389e-4f31-8b18-9ae1a008e3cf"
      },
      "outputs": [],
      "source": [
        "sns.boxplot(x=churn['CreditScore'])"
      ]
    },
    {
      "cell_type": "markdown",
      "id": "c9c97446-ed2a-4b87-86e7-e42d4e5e7664",
      "metadata": {
        "id": "c9c97446-ed2a-4b87-86e7-e42d4e5e7664"
      },
      "source": [
        "# Encoding"
      ]
    },
    {
      "cell_type": "code",
      "execution_count": null,
      "id": "bcd12536-c9d8-4259-a29d-ff3fb1062efb",
      "metadata": {
        "id": "bcd12536-c9d8-4259-a29d-ff3fb1062efb"
      },
      "outputs": [],
      "source": [
        "from sklearn.preprocessing import LabelEncoder, OneHotEncoder\n",
        "le = LabelEncoder()\n",
        "oneh = OneHotEncoder()"
      ]
    },
    {
      "cell_type": "code",
      "execution_count": null,
      "id": "669ae094-7a32-48c2-888e-8e4c88f0d14f",
      "metadata": {
        "id": "669ae094-7a32-48c2-888e-8e4c88f0d14f"
      },
      "outputs": [],
      "source": [
        "churn['Gender'] = le.fit_transform(churn['Gender'])\n",
        "churn['Surname'] = le.fit_transform(churn['Surname'])\n",
        "churn['Geography'] = le.fit_transform(churn['Geography'])\n",
        "churn"
      ]
    },
    {
      "cell_type": "markdown",
      "id": "8e57fe3a-816f-4266-80de-cc0b0b79b745",
      "metadata": {
        "id": "8e57fe3a-816f-4266-80de-cc0b0b79b745"
      },
      "source": [
        "# Split into x and y"
      ]
    },
    {
      "cell_type": "code",
      "execution_count": null,
      "id": "c1d9bd78-03e4-4c4b-ae2c-5bc38e6035c8",
      "metadata": {
        "id": "c1d9bd78-03e4-4c4b-ae2c-5bc38e6035c8"
      },
      "outputs": [],
      "source": [
        "x = churn.iloc[:, 3:13]\n",
        "x"
      ]
    },
    {
      "cell_type": "code",
      "execution_count": null,
      "id": "6196e049-1000-473c-b252-a35b98ffa84f",
      "metadata": {
        "id": "6196e049-1000-473c-b252-a35b98ffa84f"
      },
      "outputs": [],
      "source": [
        "y = churn['Exited']\n",
        "y"
      ]
    },
    {
      "cell_type": "code",
      "execution_count": null,
      "id": "efec7ec2-3ff0-4a25-ab9c-6edb10d31db3",
      "metadata": {
        "id": "efec7ec2-3ff0-4a25-ab9c-6edb10d31db3"
      },
      "outputs": [],
      "source": [
        "from sklearn.preprocessing import StandardScaler, MinMaxScaler\n",
        "sc = StandardScaler()\n",
        "x_scaled = sc.fit_transform(x)\n",
        "x_scaled"
      ]
    },
    {
      "cell_type": "markdown",
      "id": "7c12814f-8e92-4aed-99f7-be6b90fb51fd",
      "metadata": {
        "id": "7c12814f-8e92-4aed-99f7-be6b90fb51fd"
      },
      "source": [
        "# Train Test"
      ]
    },
    {
      "cell_type": "code",
      "execution_count": null,
      "id": "20258379-d41e-496d-a5fe-f00c227e5a54",
      "metadata": {
        "id": "20258379-d41e-496d-a5fe-f00c227e5a54"
      },
      "outputs": [],
      "source": [
        "from sklearn.model_selection import train_test_split\n",
        "x_train, x_test, y_train, y_test = train_test_split(x_scaled, y, test_size = 0.3, random_state = 0)\n",
        "\n",
        "\n",
        "x_train"
      ]
    },
    {
      "cell_type": "code",
      "execution_count": null,
      "id": "e9c4c4a1-3ff9-42c5-bd33-f9b29b7c83da",
      "metadata": {
        "id": "e9c4c4a1-3ff9-42c5-bd33-f9b29b7c83da"
      },
      "outputs": [],
      "source": [
        "x_train.shape"
      ]
    },
    {
      "cell_type": "code",
      "execution_count": null,
      "id": "e46128e8-9d0c-4fd4-b98c-b8b586f48cd2",
      "metadata": {
        "id": "e46128e8-9d0c-4fd4-b98c-b8b586f48cd2"
      },
      "outputs": [],
      "source": [
        "x_test"
      ]
    },
    {
      "cell_type": "code",
      "execution_count": null,
      "id": "7a154879-3748-4141-9d0f-53f4b01b3db5",
      "metadata": {
        "id": "7a154879-3748-4141-9d0f-53f4b01b3db5"
      },
      "outputs": [],
      "source": [
        "y_train"
      ]
    },
    {
      "cell_type": "code",
      "execution_count": null,
      "id": "f3ea1073-e964-4b90-b7ac-5070da7750e0",
      "metadata": {
        "id": "f3ea1073-e964-4b90-b7ac-5070da7750e0"
      },
      "outputs": [],
      "source": [
        "y_test"
      ]
    },
    {
      "cell_type": "code",
      "execution_count": null,
      "id": "4a80f018-29c5-4f9c-bdf2-f8dd65a1446a",
      "metadata": {
        "id": "4a80f018-29c5-4f9c-bdf2-f8dd65a1446a"
      },
      "outputs": [],
      "source": []
    }
  ],
  "metadata": {
    "kernelspec": {
      "display_name": "Python 3 (ipykernel)",
      "language": "python",
      "name": "python3"
    },
    "language_info": {
      "codemirror_mode": {
        "name": "ipython",
        "version": 3
      },
      "file_extension": ".py",
      "mimetype": "text/x-python",
      "name": "python",
      "nbconvert_exporter": "python",
      "pygments_lexer": "ipython3",
      "version": "3.10.6"
    },
    "colab": {
      "provenance": []
    }
  },
  "nbformat": 4,
  "nbformat_minor": 5
}