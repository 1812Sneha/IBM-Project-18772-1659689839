{
  "nbformat": 4,
  "nbformat_minor": 0,
  "metadata": {
    "colab": {
      "provenance": []
    },
    "kernelspec": {
      "name": "python3",
      "display_name": "Python 3"
    },
    "language_info": {
      "name": "python"
    }
  },
  "cells": [
    {
      "cell_type": "markdown",
      "source": [
        "# **SMS** **SPAM** **Classification**\n",
        "\n",
        "\n",
        "\n",
        "\n",
        "\n"
      ],
      "metadata": {
        "id": "LSStPTaGT-rF"
      }
    },
    {
      "cell_type": "markdown",
      "source": [
        "# Download the dataset \"spam.csv\"\n",
        "# Import required library\n",
        "\n",
        "\n",
        "\n"
      ],
      "metadata": {
        "id": "Vb1PN_PArXC7"
      }
    },
    {
      "cell_type": "code",
      "source": [
        "import pandas as pd\n",
        "import numpy as np\n",
        "import matplotlib.pyplot as plt\n",
        "\n",
        "from sklearn.model_selection import train_test_split\n",
        "from sklearn.preprocessing import LabelEncoder\n",
        "from keras.models import Model\n",
        "from keras.layers import LSTM, Activation, Dense, Dropout, Input, Embedding\n",
        "from keras.optimizers import Adam\n",
        "from keras.preprocessing.text import Tokenizer\n",
        "from keras.preprocessing import sequence\n",
        "from keras.utils import pad_sequences\n",
        "from keras.utils import to_categorical\n",
        "from keras.callbacks import EarlyStopping"
      ],
      "metadata": {
        "id": "LLtn0ZNkrXmQ"
      },
      "execution_count": 1,
      "outputs": []
    },
    {
      "cell_type": "markdown",
      "source": [
        "#Read the Dataset\n",
        "\n",
        "\n",
        "\n"
      ],
      "metadata": {
        "id": "8q5P6mE6rnHN"
      }
    },
    {
      "cell_type": "code",
      "source": [
        "df = pd.read_csv('spam.csv',delimiter=',',encoding='latin-1')\n",
        "df.head()"
      ],
      "metadata": {
        "colab": {
          "base_uri": "https://localhost:8080/",
          "height": 206
        },
        "id": "uH7rbKlDrno7",
        "outputId": "e54e8c86-cb2d-4007-ee24-ad336d1ae453"
      },
      "execution_count": 2,
      "outputs": [
        {
          "output_type": "execute_result",
          "data": {
            "text/plain": [
              "     v1                                                 v2 Unnamed: 2  \\\n",
              "0   ham  Go until jurong point, crazy.. Available only ...        NaN   \n",
              "1   ham                      Ok lar... Joking wif u oni...        NaN   \n",
              "2  spam  Free entry in 2 a wkly comp to win FA Cup fina...        NaN   \n",
              "3   ham  U dun say so early hor... U c already then say...        NaN   \n",
              "4   ham  Nah I don't think he goes to usf, he lives aro...        NaN   \n",
              "\n",
              "  Unnamed: 3 Unnamed: 4  \n",
              "0        NaN        NaN  \n",
              "1        NaN        NaN  \n",
              "2        NaN        NaN  \n",
              "3        NaN        NaN  \n",
              "4        NaN        NaN  "
            ],
            "text/html": [
              "\n",
              "  <div id=\"df-f5e5acf0-a601-486b-aa31-50ed7cd617a7\">\n",
              "    <div class=\"colab-df-container\">\n",
              "      <div>\n",
              "<style scoped>\n",
              "    .dataframe tbody tr th:only-of-type {\n",
              "        vertical-align: middle;\n",
              "    }\n",
              "\n",
              "    .dataframe tbody tr th {\n",
              "        vertical-align: top;\n",
              "    }\n",
              "\n",
              "    .dataframe thead th {\n",
              "        text-align: right;\n",
              "    }\n",
              "</style>\n",
              "<table border=\"1\" class=\"dataframe\">\n",
              "  <thead>\n",
              "    <tr style=\"text-align: right;\">\n",
              "      <th></th>\n",
              "      <th>v1</th>\n",
              "      <th>v2</th>\n",
              "      <th>Unnamed: 2</th>\n",
              "      <th>Unnamed: 3</th>\n",
              "      <th>Unnamed: 4</th>\n",
              "    </tr>\n",
              "  </thead>\n",
              "  <tbody>\n",
              "    <tr>\n",
              "      <th>0</th>\n",
              "      <td>ham</td>\n",
              "      <td>Go until jurong point, crazy.. Available only ...</td>\n",
              "      <td>NaN</td>\n",
              "      <td>NaN</td>\n",
              "      <td>NaN</td>\n",
              "    </tr>\n",
              "    <tr>\n",
              "      <th>1</th>\n",
              "      <td>ham</td>\n",
              "      <td>Ok lar... Joking wif u oni...</td>\n",
              "      <td>NaN</td>\n",
              "      <td>NaN</td>\n",
              "      <td>NaN</td>\n",
              "    </tr>\n",
              "    <tr>\n",
              "      <th>2</th>\n",
              "      <td>spam</td>\n",
              "      <td>Free entry in 2 a wkly comp to win FA Cup fina...</td>\n",
              "      <td>NaN</td>\n",
              "      <td>NaN</td>\n",
              "      <td>NaN</td>\n",
              "    </tr>\n",
              "    <tr>\n",
              "      <th>3</th>\n",
              "      <td>ham</td>\n",
              "      <td>U dun say so early hor... U c already then say...</td>\n",
              "      <td>NaN</td>\n",
              "      <td>NaN</td>\n",
              "      <td>NaN</td>\n",
              "    </tr>\n",
              "    <tr>\n",
              "      <th>4</th>\n",
              "      <td>ham</td>\n",
              "      <td>Nah I don't think he goes to usf, he lives aro...</td>\n",
              "      <td>NaN</td>\n",
              "      <td>NaN</td>\n",
              "      <td>NaN</td>\n",
              "    </tr>\n",
              "  </tbody>\n",
              "</table>\n",
              "</div>\n",
              "      <button class=\"colab-df-convert\" onclick=\"convertToInteractive('df-f5e5acf0-a601-486b-aa31-50ed7cd617a7')\"\n",
              "              title=\"Convert this dataframe to an interactive table.\"\n",
              "              style=\"display:none;\">\n",
              "        \n",
              "  <svg xmlns=\"http://www.w3.org/2000/svg\" height=\"24px\"viewBox=\"0 0 24 24\"\n",
              "       width=\"24px\">\n",
              "    <path d=\"M0 0h24v24H0V0z\" fill=\"none\"/>\n",
              "    <path d=\"M18.56 5.44l.94 2.06.94-2.06 2.06-.94-2.06-.94-.94-2.06-.94 2.06-2.06.94zm-11 1L8.5 8.5l.94-2.06 2.06-.94-2.06-.94L8.5 2.5l-.94 2.06-2.06.94zm10 10l.94 2.06.94-2.06 2.06-.94-2.06-.94-.94-2.06-.94 2.06-2.06.94z\"/><path d=\"M17.41 7.96l-1.37-1.37c-.4-.4-.92-.59-1.43-.59-.52 0-1.04.2-1.43.59L10.3 9.45l-7.72 7.72c-.78.78-.78 2.05 0 2.83L4 21.41c.39.39.9.59 1.41.59.51 0 1.02-.2 1.41-.59l7.78-7.78 2.81-2.81c.8-.78.8-2.07 0-2.86zM5.41 20L4 18.59l7.72-7.72 1.47 1.35L5.41 20z\"/>\n",
              "  </svg>\n",
              "      </button>\n",
              "      \n",
              "  <style>\n",
              "    .colab-df-container {\n",
              "      display:flex;\n",
              "      flex-wrap:wrap;\n",
              "      gap: 12px;\n",
              "    }\n",
              "\n",
              "    .colab-df-convert {\n",
              "      background-color: #E8F0FE;\n",
              "      border: none;\n",
              "      border-radius: 50%;\n",
              "      cursor: pointer;\n",
              "      display: none;\n",
              "      fill: #1967D2;\n",
              "      height: 32px;\n",
              "      padding: 0 0 0 0;\n",
              "      width: 32px;\n",
              "    }\n",
              "\n",
              "    .colab-df-convert:hover {\n",
              "      background-color: #E2EBFA;\n",
              "      box-shadow: 0px 1px 2px rgba(60, 64, 67, 0.3), 0px 1px 3px 1px rgba(60, 64, 67, 0.15);\n",
              "      fill: #174EA6;\n",
              "    }\n",
              "\n",
              "    [theme=dark] .colab-df-convert {\n",
              "      background-color: #3B4455;\n",
              "      fill: #D2E3FC;\n",
              "    }\n",
              "\n",
              "    [theme=dark] .colab-df-convert:hover {\n",
              "      background-color: #434B5C;\n",
              "      box-shadow: 0px 1px 3px 1px rgba(0, 0, 0, 0.15);\n",
              "      filter: drop-shadow(0px 1px 2px rgba(0, 0, 0, 0.3));\n",
              "      fill: #FFFFFF;\n",
              "    }\n",
              "  </style>\n",
              "\n",
              "      <script>\n",
              "        const buttonEl =\n",
              "          document.querySelector('#df-f5e5acf0-a601-486b-aa31-50ed7cd617a7 button.colab-df-convert');\n",
              "        buttonEl.style.display =\n",
              "          google.colab.kernel.accessAllowed ? 'block' : 'none';\n",
              "\n",
              "        async function convertToInteractive(key) {\n",
              "          const element = document.querySelector('#df-f5e5acf0-a601-486b-aa31-50ed7cd617a7');\n",
              "          const dataTable =\n",
              "            await google.colab.kernel.invokeFunction('convertToInteractive',\n",
              "                                                     [key], {});\n",
              "          if (!dataTable) return;\n",
              "\n",
              "          const docLinkHtml = 'Like what you see? Visit the ' +\n",
              "            '<a target=\"_blank\" href=https://colab.research.google.com/notebooks/data_table.ipynb>data table notebook</a>'\n",
              "            + ' to learn more about interactive tables.';\n",
              "          element.innerHTML = '';\n",
              "          dataTable['output_type'] = 'display_data';\n",
              "          await google.colab.output.renderOutput(dataTable, element);\n",
              "          const docLink = document.createElement('div');\n",
              "          docLink.innerHTML = docLinkHtml;\n",
              "          element.appendChild(docLink);\n",
              "        }\n",
              "      </script>\n",
              "    </div>\n",
              "  </div>\n",
              "  "
            ]
          },
          "metadata": {},
          "execution_count": 2
        }
      ]
    },
    {
      "cell_type": "markdown",
      "source": [
        "#  Preprocessing the Dataset"
      ],
      "metadata": {
        "id": "oWatATlprq_4"
      }
    },
    {
      "cell_type": "code",
      "source": [
        "df.drop(['Unnamed: 2', 'Unnamed: 3', 'Unnamed: 4'],axis=1,inplace=True)"
      ],
      "metadata": {
        "id": "7BZxB2GIrrpL"
      },
      "execution_count": 3,
      "outputs": []
    },
    {
      "cell_type": "code",
      "source": [
        "from wordcloud import WordCloud, STOPWORDS, ImageColorGenerator"
      ],
      "metadata": {
        "id": "XjisEIzRrtix"
      },
      "execution_count": 4,
      "outputs": []
    },
    {
      "cell_type": "code",
      "source": [
        "X = df.v2\n",
        "Y = df.v1\n",
        "le = LabelEncoder()\n",
        "Y = le.fit_transform(Y)\n",
        "Y = Y.reshape(-1,1)"
      ],
      "metadata": {
        "id": "gQPGYFt0rtj-"
      },
      "execution_count": 5,
      "outputs": []
    },
    {
      "cell_type": "code",
      "source": [
        "X_train,X_test,Y_train,Y_test = train_test_split(X,Y,test_size=0.25)"
      ],
      "metadata": {
        "id": "5ijj7tKQryHW"
      },
      "execution_count": 6,
      "outputs": []
    },
    {
      "cell_type": "code",
      "source": [
        "max_words = 1000\n",
        "max_len = 150\n",
        "tok = Tokenizer(num_words=max_words)\n",
        "tok.fit_on_texts(X_train)\n",
        "sequences = tok.texts_to_sequences(X_train)\n",
        "sequences_matrix = pad_sequences(sequences,maxlen=max_len)"
      ],
      "metadata": {
        "id": "LKR0FINzryIy"
      },
      "execution_count": 7,
      "outputs": []
    },
    {
      "cell_type": "markdown",
      "source": [
        "#Create Model & Add Layers"
      ],
      "metadata": {
        "id": "tRuPBdVtr2Lr"
      }
    },
    {
      "cell_type": "code",
      "source": [
        "inputs = Input(shape=[max_len])\n",
        "layer = Embedding(max_words,50,input_length=max_len)(inputs)\n",
        "layer = LSTM(128)(layer)\n",
        "layer = Dense(128)(layer)\n",
        "layer = Activation('relu')(layer)\n",
        "layer = Dropout(0.5)(layer)\n",
        "layer = Dense(1)(layer)\n",
        "layer = Activation('sigmoid')(layer)\n",
        "model = Model(inputs=inputs,outputs=layer)"
      ],
      "metadata": {
        "id": "uwjlCK4hr8H4"
      },
      "execution_count": 8,
      "outputs": []
    },
    {
      "cell_type": "code",
      "source": [
        "model.summary()"
      ],
      "metadata": {
        "colab": {
          "base_uri": "https://localhost:8080/"
        },
        "id": "OJZjbgSWsAaV",
        "outputId": "cfd374e1-3783-48d7-9dfb-bf5ae5b48c59"
      },
      "execution_count": 9,
      "outputs": [
        {
          "output_type": "stream",
          "name": "stdout",
          "text": [
            "Model: \"model\"\n",
            "_________________________________________________________________\n",
            " Layer (type)                Output Shape              Param #   \n",
            "=================================================================\n",
            " input_1 (InputLayer)        [(None, 150)]             0         \n",
            "                                                                 \n",
            " embedding (Embedding)       (None, 150, 50)           50000     \n",
            "                                                                 \n",
            " lstm (LSTM)                 (None, 128)               91648     \n",
            "                                                                 \n",
            " dense (Dense)               (None, 128)               16512     \n",
            "                                                                 \n",
            " activation (Activation)     (None, 128)               0         \n",
            "                                                                 \n",
            " dropout (Dropout)           (None, 128)               0         \n",
            "                                                                 \n",
            " dense_1 (Dense)             (None, 1)                 129       \n",
            "                                                                 \n",
            " activation_1 (Activation)   (None, 1)                 0         \n",
            "                                                                 \n",
            "=================================================================\n",
            "Total params: 158,289\n",
            "Trainable params: 158,289\n",
            "Non-trainable params: 0\n",
            "_________________________________________________________________\n"
          ]
        }
      ]
    },
    {
      "cell_type": "markdown",
      "source": [
        "#  Compile the Model"
      ],
      "metadata": {
        "id": "W-4lcsHrsDln"
      }
    },
    {
      "cell_type": "code",
      "source": [
        "model.compile(loss='binary_crossentropy',optimizer=Adam(),metrics=['accuracy'])"
      ],
      "metadata": {
        "id": "pG1sJuNrsEqL"
      },
      "execution_count": 10,
      "outputs": []
    },
    {
      "cell_type": "markdown",
      "source": [
        "#  Fit the Model"
      ],
      "metadata": {
        "id": "Q3djKLkBsHQo"
      }
    },
    {
      "cell_type": "code",
      "source": [
        "history = model.fit(sequences_matrix,Y_train,batch_size=20,epochs=15,\n",
        "          validation_split=0.2)"
      ],
      "metadata": {
        "colab": {
          "base_uri": "https://localhost:8080/"
        },
        "id": "UYbUTyuysJRf",
        "outputId": "daee5dc3-8538-44b7-9fc4-34723d5eef8c"
      },
      "execution_count": 11,
      "outputs": [
        {
          "output_type": "stream",
          "name": "stdout",
          "text": [
            "Epoch 1/15\n",
            "168/168 [==============================] - 33s 178ms/step - loss: 0.1808 - accuracy: 0.9408 - val_loss: 0.0617 - val_accuracy: 0.9833\n",
            "Epoch 2/15\n",
            "168/168 [==============================] - 29s 175ms/step - loss: 0.0358 - accuracy: 0.9898 - val_loss: 0.0637 - val_accuracy: 0.9833\n",
            "Epoch 3/15\n",
            "168/168 [==============================] - 29s 173ms/step - loss: 0.0179 - accuracy: 0.9955 - val_loss: 0.0792 - val_accuracy: 0.9844\n",
            "Epoch 4/15\n",
            "168/168 [==============================] - 29s 174ms/step - loss: 0.0122 - accuracy: 0.9970 - val_loss: 0.0839 - val_accuracy: 0.9797\n",
            "Epoch 5/15\n",
            "168/168 [==============================] - 29s 174ms/step - loss: 0.0079 - accuracy: 0.9988 - val_loss: 0.0950 - val_accuracy: 0.9785\n",
            "Epoch 6/15\n",
            "168/168 [==============================] - 29s 172ms/step - loss: 0.0055 - accuracy: 0.9985 - val_loss: 0.0954 - val_accuracy: 0.9809\n",
            "Epoch 7/15\n",
            "168/168 [==============================] - 29s 175ms/step - loss: 0.0037 - accuracy: 0.9991 - val_loss: 0.1048 - val_accuracy: 0.9785\n",
            "Epoch 8/15\n",
            "168/168 [==============================] - 30s 176ms/step - loss: 0.0018 - accuracy: 0.9997 - val_loss: 0.1185 - val_accuracy: 0.9725\n",
            "Epoch 9/15\n",
            "168/168 [==============================] - 30s 181ms/step - loss: 0.0010 - accuracy: 0.9997 - val_loss: 0.1485 - val_accuracy: 0.9821\n",
            "Epoch 10/15\n",
            "168/168 [==============================] - 29s 175ms/step - loss: 1.5949e-04 - accuracy: 1.0000 - val_loss: 0.1551 - val_accuracy: 0.9833\n",
            "Epoch 11/15\n",
            "168/168 [==============================] - 29s 172ms/step - loss: 7.1620e-05 - accuracy: 1.0000 - val_loss: 0.1609 - val_accuracy: 0.9833\n",
            "Epoch 12/15\n",
            "168/168 [==============================] - 29s 174ms/step - loss: 4.4186e-05 - accuracy: 1.0000 - val_loss: 0.1636 - val_accuracy: 0.9821\n",
            "Epoch 13/15\n",
            "168/168 [==============================] - 29s 174ms/step - loss: 2.4064e-05 - accuracy: 1.0000 - val_loss: 0.1715 - val_accuracy: 0.9833\n",
            "Epoch 14/15\n",
            "168/168 [==============================] - 29s 176ms/step - loss: 2.1473e-05 - accuracy: 1.0000 - val_loss: 0.1785 - val_accuracy: 0.9833\n",
            "Epoch 15/15\n",
            "168/168 [==============================] - 29s 175ms/step - loss: 1.6007e-05 - accuracy: 1.0000 - val_loss: 0.1824 - val_accuracy: 0.9833\n"
          ]
        }
      ]
    },
    {
      "cell_type": "code",
      "source": [
        "metrics = pd.DataFrame(history.history)\n",
        "metrics.rename(columns = {'loss': 'Training_Loss', 'accuracy': 'Training_Accuracy', 'val_loss': 'Validation_Loss', 'val_accuracy': 'Validation_Accuracy'}, inplace = True)\n",
        "def plot_graphs1(var1, var2, string):\n",
        "    metrics[[var1, var2]].plot()\n",
        "    plt.title('Training and Validation ' + string)\n",
        "    plt.xlabel ('Number of epochs')\n",
        "    plt.ylabel(string)\n",
        "    plt.legend([var1, var2])"
      ],
      "metadata": {
        "id": "fz1w8CsIsMvd"
      },
      "execution_count": 12,
      "outputs": []
    },
    {
      "cell_type": "code",
      "source": [
        "plot_graphs1('Training_Accuracy', 'Validation_Accuracy', 'Accuracy')"
      ],
      "metadata": {
        "colab": {
          "base_uri": "https://localhost:8080/",
          "height": 295
        },
        "id": "qb-wKPl_sM6I",
        "outputId": "12eb4dcd-4a6f-4489-e83f-4e558b16d7cd"
      },
      "execution_count": 13,
      "outputs": [
        {
          "output_type": "display_data",
          "data": {
            "text/plain": [
              "<Figure size 432x288 with 1 Axes>"
            ],
            "image/png": "[encoded data removed]"
          },
          "metadata": {
            "needs_background": "light"
          }
        }
      ]
    },
    {
      "cell_type": "markdown",
      "source": [
        "#  Save the Model"
      ],
      "metadata": {
        "id": "0X6_Zyi3sQ71"
      }
    },
    {
      "cell_type": "code",
      "source": [
        "model.save('A4Spam_sms_classifier.h5')"
      ],
      "metadata": {
        "id": "bO3XhsbisSzb"
      },
      "execution_count": 14,
      "outputs": []
    },
    {
      "cell_type": "markdown",
      "source": [
        "\n",
        "#  Test the Model"
      ],
      "metadata": {
        "id": "1jS0jwk1sUSz"
      }
    },
    {
      "cell_type": "code",
      "source": [
        "test_sequences = tok.texts_to_sequences(X_test)\n",
        "test_sequences_matrix = pad_sequences(test_sequences,maxlen=max_len)"
      ],
      "metadata": {
        "id": "KEk1pZdYsU6b"
      },
      "execution_count": 15,
      "outputs": []
    },
    {
      "cell_type": "code",
      "source": [
        "accuracy1 = model.evaluate(test_sequences_matrix,Y_test)"
      ],
      "metadata": {
        "colab": {
          "base_uri": "https://localhost:8080/"
        },
        "id": "E4SrzifSsZFJ",
        "outputId": "135e98ad-8dd3-482d-c66e-2f96b5d60433"
      },
      "execution_count": 16,
      "outputs": [
        {
          "output_type": "stream",
          "name": "stdout",
          "text": [
            "44/44 [==============================] - 3s 75ms/step - loss: 0.1678 - accuracy: 0.9806\n"
          ]
        }
      ]
    },
    {
      "cell_type": "code",
      "source": [
        "print(' loss: {:0.4f}'.format(accuracy1[0]))\n",
        "print(' Accuracy: {:0.4f}'.format(accuracy1[1]))"
      ],
      "metadata": {
        "colab": {
          "base_uri": "https://localhost:8080/"
        },
        "id": "dgFVo3cdsZRi",
        "outputId": "c4881d55-f75a-44a9-b9c8-3b9d6648a4fa"
      },
      "execution_count": 18,
      "outputs": [
        {
          "output_type": "stream",
          "name": "stdout",
          "text": [
            " loss: 0.1678\n",
            " Accuracy: 0.9806\n"
          ]
        }
      ]
    }
  ]
}